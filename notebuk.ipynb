{
 "cells": [
  {
   "cell_type": "code",
   "execution_count": 185,
   "metadata": {},
   "outputs": [],
   "source": [
    "from selenium import webdriver\n",
    "from selenium.webdriver.support.ui import Select\n",
    "from selenium.webdriver.support.ui import WebDriverWait\n",
    "from selenium.webdriver.support import expected_conditions as EC\n",
    "from selenium.webdriver.common.by import By\n",
    "from selenium.webdriver.chrome.options import Options\n",
    "from selenium.webdriver.common.action_chains import ActionChains\n",
    "from selenium.webdriver.common.keys import Keys\n",
    "from bs4 import BeautifulSoup\n",
    "import pandas as pd\n",
    "import numpy as np\n",
    "import time, json\n",
    "\n",
    "#Opciones para que funcione el navegador y lo abrimos en la página\n",
    "options = Options()\n",
    "#options.add_experimental_option('excludeSwitches', ['enable-logging'])\n",
    "driver = webdriver.Chrome(executable_path=\"C:/Users/jjenr/Documents/aprendiendogit/chromedriver.exe\")#,chrome_options=options)\n",
    "driver.get(\"https://www.laborum.cl/empleos-busqueda-analista-de-datos.html\") #'analista de datos' web scrapping parametros e busqueda\n",
    "time.sleep(3)\n",
    "caja = driver.find_element_by_xpath('//*[@id=\"listado-avisos\"]')"
   ]
  },
  {
   "cell_type": "code",
   "execution_count": 186,
   "metadata": {},
   "outputs": [],
   "source": [
    "jobs_list = caja.find_elements_by_tag_name('a')\n",
    "links=[]\n",
    "for a in jobs_list:\n",
    "    if str(a.get_attribute('href')).startswith(\"https://www.laborum.cl/empleos/\") and a.get_attribute('href') not in links: \n",
    "        links.append(a.get_attribute('href'))\n",
    "    else:\n",
    "        pass\n"
   ]
  },
  {
   "cell_type": "code",
   "execution_count": 195,
   "metadata": {},
   "outputs": [],
   "source": [
    "#anuncio=driver.find_element_by_xpath()\n",
    "info=[]\n",
    "for link in links:\n",
    "    driver.get(link)\n",
    "    time.sleep(1)\n",
    "    info.append(driver.find_element_by_css_selector('div.cvSei').text)\n"
   ]
  },
  {
   "cell_type": "code",
   "execution_count": 222,
   "metadata": {},
   "outputs": [],
   "source": [
    "ddf = {'links':links,'info':info}\n",
    "df= pd.DataFrame(ddf,columns=['links', 'info'])\n",
    "df.to_csv('scrappy.csv', index=False)"
   ]
  },
  {
   "cell_type": "markdown",
   "metadata": {},
   "source": []
  }
 ],
 "metadata": {
  "kernelspec": {
   "display_name": "Python 3",
   "language": "python",
   "name": "python3"
  },
  "language_info": {
   "codemirror_mode": {
    "name": "ipython",
    "version": 3
   },
   "file_extension": ".py",
   "mimetype": "text/x-python",
   "name": "python",
   "nbconvert_exporter": "python",
   "pygments_lexer": "ipython3",
   "version": "3.9.6"
  },
  "orig_nbformat": 4,
  "vscode": {
   "interpreter": {
    "hash": "f1737344a0c3d0671945e7c0c3c9612bac7da4124b811c09b28b61429148bb24"
   }
  }
 },
 "nbformat": 4,
 "nbformat_minor": 2
}
